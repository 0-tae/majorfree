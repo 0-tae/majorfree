{
 "cells": [
  {
   "cell_type": "markdown",
   "metadata": {},
   "source": [
    "## 설정 초기화"
   ]
  },
  {
   "cell_type": "code",
   "execution_count": 3,
   "metadata": {},
   "outputs": [
    {
     "name": "stdout",
     "output_type": "stream",
     "text": [
      "Requirement already satisfied: mysql-connector-python in /Users/0tae1/anaconda3/lib/python3.11/site-packages (9.3.0)\n",
      "Note: you may need to restart the kernel to use updated packages.\n"
     ]
    }
   ],
   "source": [
    "%pip install mysql-connector-python"
   ]
  },
  {
   "cell_type": "code",
   "execution_count": 4,
   "metadata": {},
   "outputs": [
    {
     "name": "stdout",
     "output_type": "stream",
     "text": [
      "MySQL 서버에 연결되었습니다. 버전: 9.3.0\n",
      "현재 데이터베이스: cnu_data\n"
     ]
    },
    {
     "name": "stderr",
     "output_type": "stream",
     "text": [
      "/var/folders/kv/jv4ntr9x5h3f_0rbw1xytqbm0000gp/T/ipykernel_55958/499930515.py:14: DeprecationWarning: Call to deprecated function get_server_info. Reason: \n",
      "    The property counterpart 'server_info' should be used instead.\n",
      "\n",
      "  db_info = connection.get_server_info()\n"
     ]
    }
   ],
   "source": [
    "import mysql.connector\n",
    "from mysql.connector import Error\n",
    "\n",
    "try:\n",
    "    connection = mysql.connector.connect(\n",
    "        host='localhost',\n",
    "        port=3306,\n",
    "        database='cnu_data',\n",
    "        user='root',\n",
    "        password='dydrkfl#7!'\n",
    "    )\n",
    "    \n",
    "    if connection.is_connected():\n",
    "        db_info = connection.get_server_info()\n",
    "        print(f\"MySQL 서버에 연결되었습니다. 버전: {db_info}\")\n",
    "        cursor = connection.cursor()\n",
    "        cursor.execute(\"select database();\")\n",
    "        record = cursor.fetchone()\n",
    "        print(f\"현재 데이터베이스: {record[0]}\")\n",
    "\n",
    "except Error as e:\n",
    "    print(f\"MySQL 연결 중 에러 발생: {e}\")\n"
   ]
  },
  {
   "cell_type": "code",
   "execution_count": null,
   "metadata": {},
   "outputs": [],
   "source": [
    "import requests\n",
    "import json\n",
    "import datetime \n",
    "def log_api_error(endpoint, error_message):\n",
    "    \"\"\"\n",
    "    API 호출 에러를 로그 파일에 기록하는 함수\n",
    "    \n",
    "    Args:\n",
    "        endpoint (str): API 엔드포인트 URL\n",
    "        error_message (str): 발생한 에러 메시지\n",
    "    \"\"\"\n",
    "    try:\n",
    "        with open('api_log.log', 'a', encoding='utf-8') as log_file:\n",
    "            timestamp = datetime.now().strftime('%Y-%m-%d %H:%M:%S')\n",
    "            log_entry = f\"[{timestamp}] API 호출 실패\\n\"\n",
    "            log_entry += f\"엔드포인트: {endpoint}\\n\"\n",
    "            log_entry += f\"에러 메시지: {error_message}\\n\"\n",
    "            log_entry += \"-\" * 80 + \"\\n\"\n",
    "            log_file.write(log_entry)\n",
    "    except Exception as e:\n",
    "        print(f\"로그 파일 작성 중 에러 발생: {e}\")\n",
    "\n",
    "def fetch_data(endpoint):\n",
    "    \"\"\"\n",
    "    CNU API에서 데이터를 가져오는 함수\n",
    "    \n",
    "    Args:\n",
    "        endpoint (str): API 엔드포인트 URL\n",
    "        \n",
    "    Returns:\n",
    "        dict: API 응답 데이터\n",
    "    \"\"\"\n",
    "    headers = {\n",
    "        'Content-Type': 'application/json',\n",
    "        'Accept': 'application/json'\n",
    "    }\n",
    "\n",
    "    try:\n",
    "        response = requests.post(endpoint, headers=headers)\n",
    "        response.raise_for_status()\n",
    "        \n",
    "        data = response.json()\n",
    "        print(f\"API 응답 상태: {response.status_code}\")\n",
    "        print(f\"응답 데이터: {json.dumps(data, indent=2, ensure_ascii=False)}\")\n",
    "        \n",
    "        return data\n",
    "        \n",
    "    except requests.exceptions.RequestException as e:\n",
    "        print(f\"API 요청 중 에러 발생: {e}\")\n",
    "        \n",
    "        # 에러 발생 시 진행상황 저장하기(로그)\n",
    "        log_api_error(endpoint, str(e))\n",
    "        return None"
   ]
  },
  {
   "cell_type": "code",
   "execution_count": null,
   "metadata": {},
   "outputs": [],
   "source": [
    "AUTH_KEY = '081E3B5B5C5E47409E3AB0BE3FBFC9FDC7798045'\n",
    "CNU_API_ENDPOINT = 'https://api.cnu.ac.kr/svc/offcam/pub'\n",
    "\n",
    "# TODO: 각 데이터 테이블 정의하고, 컬럼 정의\n",
    "# TODO: API 호출 시 페이지 수 정하고, 남은 페이지 카운트 파악해서 진행상황에 기록하기\n",
    "# TODO: 수강신청 데이터 전처리 전략 세우기(수강신청을 얼마나 많이 했는지 등)\n",
    "# TODO: 저장된 데이터와 데이터베이스를 유지한 채 export할 방법 찾기"
   ]
  },
  {
   "cell_type": "markdown",
   "metadata": {},
   "source": [
    "### 강의계획서"
   ]
  },
  {
   "cell_type": "code",
   "execution_count": null,
   "metadata": {},
   "outputs": [],
   "source": [
    "p_yr = 2023\n",
    "p_open_shtm = 1\n",
    "page = 1\n",
    "endpoint = f'{CNU_API_ENDPOINT}/lsnSmry?AUTH_KEY={AUTH_KEY}&P_YR={p_yr}&P_OPEN_SHTM ={p_open_shtm}&page={page}'\n",
    "\n",
    "# API 호출\n",
    "data = fetch_data(endpoint)\n"
   ]
  },
  {
   "cell_type": "markdown",
   "metadata": {},
   "source": [
    "### CNU 게시판 목록"
   ]
  },
  {
   "cell_type": "code",
   "execution_count": null,
   "metadata": {},
   "outputs": [],
   "source": [
    "endpoint = f'{CNU_API_ENDPOINT}/cmsBoard?AUTH_KEY={AUTH_KEY}'\n",
    "\n",
    "# API 호출\n",
    "data = fetch_data(endpoint)\n",
    "board_list = data['result']['list'] # TODO: 올바른 데이터로 변환 필요"
   ]
  },
  {
   "cell_type": "markdown",
   "metadata": {},
   "source": [
    "### CNU 게시판 내용"
   ]
  },
  {
   "cell_type": "code",
   "execution_count": null,
   "metadata": {},
   "outputs": [],
   "source": [
    "p_board_no = 1\n",
    "endpoint = f'{CNU_API_ENDPOINT}/homepageboardContents?AUTH_KEY={AUTH_KEY}&P_board_no={p_board_no}'\n",
    "\n",
    "# API 호출\n",
    "data = fetch_data(endpoint)"
   ]
  },
  {
   "cell_type": "markdown",
   "metadata": {},
   "source": [
    "### 수강신청"
   ]
  },
  {
   "cell_type": "code",
   "execution_count": null,
   "metadata": {},
   "outputs": [],
   "source": [
    "p_yr = 2024\n",
    "page = 1\n",
    "endpoint = f'{CNU_API_ENDPOINT}/SugangInfo?AUTH_KEY={AUTH_KEY}&P_OPEN_YR={p_yr}&page={page}'\n",
    "\n",
    "# API 호출\n",
    "data = fetch_data(endpoint)"
   ]
  }
 ],
 "metadata": {
  "kernelspec": {
   "display_name": "base",
   "language": "python",
   "name": "python3"
  },
  "language_info": {
   "codemirror_mode": {
    "name": "ipython",
    "version": 3
   },
   "file_extension": ".py",
   "mimetype": "text/x-python",
   "name": "python",
   "nbconvert_exporter": "python",
   "pygments_lexer": "ipython3",
   "version": "3.11.4"
  }
 },
 "nbformat": 4,
 "nbformat_minor": 2
}
